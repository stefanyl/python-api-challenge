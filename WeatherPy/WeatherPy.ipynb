{
 "cells": [
  {
   "cell_type": "markdown",
   "metadata": {},
   "source": [
    "# WeatherPy\n",
    "----\n",
    "\n",
    "#### Note\n",
    "* Instructions have been included for each segment. You do not have to follow them exactly, but they are included to help you think through the steps."
   ]
  },
  {
   "cell_type": "code",
   "execution_count": 1,
   "metadata": {},
   "outputs": [],
   "source": [
    "#!pip install citipy"
   ]
  },
  {
   "cell_type": "code",
   "execution_count": 2,
   "metadata": {
    "scrolled": true
   },
   "outputs": [],
   "source": [
    "# Dependencies and Setup\n",
    "import matplotlib.pyplot as plt\n",
    "import pandas as pd\n",
    "import numpy as np\n",
    "import requests\n",
    "import time\n",
    "from scipy.stats import linregress\n",
    "from pprint import pprint\n",
    "\n",
    "# Import API key\n",
    "from api_keys import weather_api_key\n",
    "\n",
    "# Incorporated citipy to determine city based on latitude and longitude\n",
    "from citipy import citipy\n",
    "\n",
    "# Output File (CSV)\n",
    "output_data_file = \"output_data/cities.csv\"\n",
    "\n",
    "# Range of latitudes and longitudes\n",
    "lat_range = (-90, 90)\n",
    "lng_range = (-180, 180)"
   ]
  },
  {
   "cell_type": "markdown",
   "metadata": {},
   "source": [
    "## Generate Cities List"
   ]
  },
  {
   "cell_type": "code",
   "execution_count": 3,
   "metadata": {},
   "outputs": [
    {
     "data": {
      "text/plain": [
       "601"
      ]
     },
     "execution_count": 3,
     "metadata": {},
     "output_type": "execute_result"
    }
   ],
   "source": [
    "# List for holding lat_lngs and cities\n",
    "lat_lngs = []\n",
    "cities = []\n",
    "\n",
    "# Create a set of random lat and lng combinations\n",
    "lats = np.random.uniform(lat_range[0], lat_range[1], size=1500)\n",
    "lngs = np.random.uniform(lng_range[0], lng_range[1], size=1500)\n",
    "lat_lngs = zip(lats, lngs)\n",
    "\n",
    "# Identify nearest city for each lat, lng combination\n",
    "for lat_lng in lat_lngs:\n",
    "    city = citipy.nearest_city(lat_lng[0], lat_lng[1]).city_name\n",
    "    \n",
    "    # If the city is unique, then add it to a our cities list\n",
    "    if city not in cities:\n",
    "        cities.append(city)\n",
    "\n",
    "# Print the city count to confirm sufficient count\n",
    "len(cities)"
   ]
  },
  {
   "cell_type": "markdown",
   "metadata": {},
   "source": [
    "### Perform API Calls\n",
    "* Perform a weather check on each city using a series of successive API calls.\n",
    "* Include a print log of each city as it'sbeing processed (with the city number and city name).\n"
   ]
  },
  {
   "cell_type": "code",
   "execution_count": 4,
   "metadata": {},
   "outputs": [
    {
     "data": {
      "text/plain": [
       "'http://api.openweathermap.org/data/2.5/weather?appid=993317092288dfacc7cba724f5f949b4&units=imperial&q='"
      ]
     },
     "execution_count": 4,
     "metadata": {},
     "output_type": "execute_result"
    }
   ],
   "source": [
    "# Build the url\n",
    "base_url = \"http://api.openweathermap.org/data/2.5/weather?\"\n",
    "units = \"imperial\"\n",
    "query_url = f\"{base_url}appid={weather_api_key}&units={units}&q=\"\n",
    "query_url"
   ]
  },
  {
   "cell_type": "code",
   "execution_count": 5,
   "metadata": {},
   "outputs": [],
   "source": [
    "# list to hold reponse and counter\n",
    "city_list = []\n",
    "cloudiness_list = []\n",
    "country_list = []\n",
    "date_list = []\n",
    "humidity_list = []\n",
    "lat_list = []\n",
    "lng_list = []\n",
    "max_temp_list = []\n",
    "wind_speed_list = []\n",
    "index_counter = 0\n",
    "\n",
    "set_counter = 1"
   ]
  },
  {
   "cell_type": "code",
   "execution_count": 6,
   "metadata": {
    "scrolled": true
   },
   "outputs": [
    {
     "name": "stdout",
     "output_type": "stream",
     "text": [
      "Beginning Data Retrieval\n",
      "-------------------------------\n",
      "Processing Record 1 of Set 1 : yulara\n",
      "Processing Record 2 of Set 1 : kasimov\n",
      "Processing Record 3 of Set 1 : hasaki\n",
      "City not found. Skipping...\n",
      "Processing Record 4 of Set 1 : kaitangata\n",
      "Processing Record 5 of Set 1 : great yarmouth\n",
      "Processing Record 6 of Set 1 : kutum\n",
      "Processing Record 7 of Set 1 : tiksi\n",
      "Processing Record 8 of Set 1 : dingle\n",
      "Processing Record 9 of Set 1 : albany\n",
      "Processing Record 10 of Set 1 : adrar\n",
      "Processing Record 11 of Set 1 : barrow\n",
      "Processing Record 12 of Set 1 : ilulissat\n",
      "Processing Record 13 of Set 1 : hobart\n",
      "Processing Record 14 of Set 1 : aleppo\n",
      "Processing Record 15 of Set 1 : busselton\n",
      "Processing Record 16 of Set 1 : hermanus\n",
      "Processing Record 17 of Set 1 : rikitea\n",
      "Processing Record 18 of Set 1 : puerto ayora\n",
      "Processing Record 19 of Set 1 : jumla\n",
      "Processing Record 20 of Set 1 : pombia\n",
      "City not found. Skipping...\n",
      "Processing Record 21 of Set 1 : mataura\n",
      "Processing Record 22 of Set 1 : ribeira grande\n",
      "Processing Record 23 of Set 1 : mount isa\n",
      "Processing Record 24 of Set 1 : san patricio\n",
      "Processing Record 25 of Set 1 : east london\n",
      "Processing Record 26 of Set 1 : kodiak\n",
      "City not found. Skipping...\n",
      "Processing Record 27 of Set 1 : henties bay\n",
      "City not found. Skipping...\n",
      "Processing Record 28 of Set 1 : santa\n",
      "Processing Record 29 of Set 1 : limenaria\n",
      "Processing Record 30 of Set 1 : chifeng\n",
      "Processing Record 31 of Set 1 : zhigansk\n",
      "Processing Record 32 of Set 1 : copiapo\n",
      "Processing Record 33 of Set 1 : wewak\n",
      "City not found. Skipping...\n",
      "Processing Record 34 of Set 1 : daru\n",
      "Processing Record 35 of Set 1 : taoudenni\n",
      "Processing Record 36 of Set 1 : ostrovnoy\n",
      "Processing Record 37 of Set 1 : sao filipe\n",
      "Processing Record 38 of Set 1 : cabo san lucas\n",
      "Processing Record 39 of Set 1 : ushuaia\n",
      "Processing Record 40 of Set 1 : namatanai\n",
      "Processing Record 41 of Set 1 : castro\n",
      "Processing Record 42 of Set 1 : methoni\n",
      "Processing Record 43 of Set 1 : jamestown\n",
      "Processing Record 44 of Set 1 : xinqing\n",
      "Processing Record 45 of Set 1 : cabedelo\n",
      "Processing Record 46 of Set 1 : karpathos\n",
      "Processing Record 47 of Set 1 : porto novo\n",
      "Processing Record 48 of Set 1 : satkhira\n",
      "Processing Record 49 of Set 1 : kahului\n",
      "City not found. Skipping...\n",
      "Processing Record 50 of Set 1 : the valley\n",
      "Processing Record 0 of Set 2 : bambous virieux\n",
      "Processing Record 1 of Set 2 : westport\n",
      "Processing Record 2 of Set 2 : cidreira\n",
      "Processing Record 3 of Set 2 : atuona\n",
      "City not found. Skipping...\n",
      "City not found. Skipping...\n",
      "Processing Record 4 of Set 2 : hobyo\n",
      "Processing Record 5 of Set 2 : te anau\n",
      "Processing Record 6 of Set 2 : katsuura\n",
      "Processing Record 7 of Set 2 : klaksvik\n",
      "Processing Record 8 of Set 2 : bacolod\n",
      "Processing Record 9 of Set 2 : port elizabeth\n",
      "Processing Record 10 of Set 2 : mar del plata\n",
      "Processing Record 11 of Set 2 : kalmunai\n",
      "Processing Record 12 of Set 2 : zambezi\n",
      "Processing Record 13 of Set 2 : valdemarpils\n",
      "Processing Record 14 of Set 2 : pavelets\n",
      "City not found. Skipping...\n",
      "Processing Record 15 of Set 2 : cape town\n",
      "Processing Record 16 of Set 2 : fayaoue\n",
      "City not found. Skipping...\n",
      "Processing Record 17 of Set 2 : ternate\n",
      "Processing Record 18 of Set 2 : alanya\n",
      "Processing Record 19 of Set 2 : tuktoyaktuk\n",
      "Processing Record 20 of Set 2 : smithers\n",
      "Processing Record 21 of Set 2 : vaini\n",
      "Processing Record 22 of Set 2 : provideniya\n",
      "Processing Record 23 of Set 2 : yellowknife\n",
      "Processing Record 24 of Set 2 : gracac\n",
      "Processing Record 25 of Set 2 : upata\n",
      "Processing Record 26 of Set 2 : bathsheba\n",
      "Processing Record 27 of Set 2 : esperance\n",
      "Processing Record 28 of Set 2 : santa marta\n",
      "Processing Record 29 of Set 2 : ayan\n",
      "Processing Record 30 of Set 2 : maningrida\n",
      "Processing Record 31 of Set 2 : ucluelet\n",
      "Processing Record 32 of Set 2 : khatanga\n",
      "Processing Record 33 of Set 2 : hithadhoo\n",
      "Processing Record 34 of Set 2 : arraial do cabo\n",
      "Processing Record 35 of Set 2 : qaanaaq\n",
      "Processing Record 36 of Set 2 : dikson\n",
      "Processing Record 37 of Set 2 : port alfred\n",
      "Processing Record 38 of Set 2 : bengkulu\n",
      "Processing Record 39 of Set 2 : kapaa\n",
      "City not found. Skipping...\n",
      "Processing Record 40 of Set 2 : mahebourg\n",
      "Processing Record 41 of Set 2 : bantogon\n",
      "Processing Record 42 of Set 2 : srednekolymsk\n",
      "Processing Record 43 of Set 2 : kangaatsiaq\n",
      "Processing Record 44 of Set 2 : torbay\n",
      "Processing Record 45 of Set 2 : hami\n",
      "Processing Record 46 of Set 2 : butaritari\n",
      "Processing Record 47 of Set 2 : salalah\n",
      "Processing Record 48 of Set 2 : inuvik\n",
      "Processing Record 49 of Set 2 : ridgecrest\n",
      "Processing Record 50 of Set 2 : lebu\n",
      "Processing Record 0 of Set 3 : oranjemund\n",
      "Processing Record 1 of Set 3 : black river\n",
      "Processing Record 2 of Set 3 : sitka\n",
      "Processing Record 3 of Set 3 : nanortalik\n",
      "Processing Record 4 of Set 3 : vostok\n",
      "Processing Record 5 of Set 3 : montrose\n",
      "Processing Record 6 of Set 3 : asau\n",
      "Processing Record 7 of Set 3 : karaikkudi\n",
      "Processing Record 8 of Set 3 : new norfolk\n",
      "City not found. Skipping...\n",
      "Processing Record 9 of Set 3 : leninskoye\n",
      "Processing Record 10 of Set 3 : saint anthony\n",
      "Processing Record 11 of Set 3 : bluff\n",
      "Processing Record 12 of Set 3 : nikolskoye\n",
      "Processing Record 13 of Set 3 : vila franca do campo\n",
      "Processing Record 14 of Set 3 : lewiston\n",
      "City not found. Skipping...\n",
      "Processing Record 15 of Set 3 : saskylakh\n",
      "Processing Record 16 of Set 3 : fukue\n",
      "Processing Record 17 of Set 3 : reggio di calabria\n",
      "Processing Record 18 of Set 3 : avera\n",
      "Processing Record 19 of Set 3 : udankudi\n",
      "Processing Record 20 of Set 3 : plastun\n",
      "Processing Record 21 of Set 3 : portland\n",
      "Processing Record 22 of Set 3 : avarua\n",
      "Processing Record 23 of Set 3 : itaguai\n",
      "Processing Record 24 of Set 3 : banda aceh\n",
      "Processing Record 25 of Set 3 : porbandar\n",
      "Processing Record 26 of Set 3 : una\n",
      "Processing Record 27 of Set 3 : buraydah\n",
      "Processing Record 28 of Set 3 : kudahuvadhoo\n",
      "Processing Record 29 of Set 3 : thompson\n",
      "Processing Record 30 of Set 3 : tautira\n",
      "Processing Record 31 of Set 3 : deputatskiy\n",
      "Processing Record 32 of Set 3 : ponta do sol\n",
      "Processing Record 33 of Set 3 : saldanha\n",
      "Processing Record 34 of Set 3 : matara\n",
      "Processing Record 35 of Set 3 : punta arenas\n",
      "Processing Record 36 of Set 3 : hilo\n",
      "Processing Record 37 of Set 3 : arica\n",
      "Processing Record 38 of Set 3 : honningsvag\n",
      "Processing Record 39 of Set 3 : bredasdorp\n",
      "Processing Record 40 of Set 3 : aranos\n",
      "Processing Record 41 of Set 3 : kudat\n",
      "City not found. Skipping...\n",
      "City not found. Skipping...\n",
      "Processing Record 42 of Set 3 : elko\n",
      "Processing Record 43 of Set 3 : adjumani\n",
      "City not found. Skipping...\n",
      "City not found. Skipping...\n",
      "Processing Record 44 of Set 3 : mossendjo\n",
      "Processing Record 45 of Set 3 : vieste\n",
      "Processing Record 46 of Set 3 : upernavik\n",
      "Processing Record 47 of Set 3 : badvel\n",
      "Processing Record 48 of Set 3 : talara\n",
      "Processing Record 49 of Set 3 : anzio\n",
      "City not found. Skipping...\n",
      "Processing Record 50 of Set 3 : dicabisagan\n",
      "Processing Record 0 of Set 4 : tasiilaq\n",
      "Processing Record 1 of Set 4 : kharan\n",
      "Processing Record 2 of Set 4 : chara\n",
      "Processing Record 3 of Set 4 : longkou\n",
      "Processing Record 4 of Set 4 : wajid\n",
      "Processing Record 5 of Set 4 : saint george\n",
      "Processing Record 6 of Set 4 : cherskiy\n",
      "Processing Record 7 of Set 4 : hofn\n",
      "Processing Record 8 of Set 4 : nome\n",
      "Processing Record 9 of Set 4 : severinia\n",
      "Processing Record 10 of Set 4 : carnarvon\n",
      "Processing Record 11 of Set 4 : alice springs\n",
      "City not found. Skipping...\n",
      "Processing Record 12 of Set 4 : angoche\n",
      "Processing Record 13 of Set 4 : lima\n",
      "Processing Record 14 of Set 4 : atambua\n",
      "Processing Record 15 of Set 4 : shenjiamen\n",
      "City not found. Skipping...\n",
      "Processing Record 16 of Set 4 : nador\n",
      "Processing Record 17 of Set 4 : gao\n",
      "Processing Record 18 of Set 4 : vila velha\n",
      "Processing Record 19 of Set 4 : brufut\n",
      "Processing Record 20 of Set 4 : severo-kurilsk\n",
      "Processing Record 21 of Set 4 : shelton\n",
      "Processing Record 22 of Set 4 : aklavik\n",
      "Processing Record 23 of Set 4 : mandera\n",
      "Processing Record 24 of Set 4 : guaruja\n",
      "Processing Record 25 of Set 4 : port macquarie\n",
      "Processing Record 26 of Set 4 : anadyr\n",
      "Processing Record 27 of Set 4 : narsaq\n",
      "Processing Record 28 of Set 4 : port-gentil\n",
      "Processing Record 29 of Set 4 : leningradskiy\n",
      "Processing Record 30 of Set 4 : lac-megantic\n",
      "Processing Record 31 of Set 4 : isangel\n",
      "Processing Record 32 of Set 4 : mabaruma\n"
     ]
    },
    {
     "name": "stdout",
     "output_type": "stream",
     "text": [
      "Processing Record 33 of Set 4 : prainha\n",
      "Processing Record 34 of Set 4 : promyshlennaya\n",
      "Processing Record 35 of Set 4 : lugoba\n",
      "Processing Record 36 of Set 4 : la palma\n",
      "Processing Record 37 of Set 4 : beboto\n",
      "Processing Record 38 of Set 4 : tuatapere\n",
      "Processing Record 39 of Set 4 : saint-augustin\n",
      "Processing Record 40 of Set 4 : roald\n",
      "Processing Record 41 of Set 4 : yantal\n",
      "Processing Record 42 of Set 4 : norrkoping\n",
      "City not found. Skipping...\n",
      "City not found. Skipping...\n",
      "Processing Record 43 of Set 4 : samana\n",
      "Processing Record 44 of Set 4 : fez\n",
      "Processing Record 45 of Set 4 : brae\n",
      "Processing Record 46 of Set 4 : turka\n",
      "Processing Record 47 of Set 4 : begusarai\n",
      "Processing Record 48 of Set 4 : prerov\n",
      "Processing Record 49 of Set 4 : clyde river\n",
      "City not found. Skipping...\n",
      "Processing Record 50 of Set 4 : norman wells\n",
      "Processing Record 0 of Set 5 : ostersund\n",
      "Processing Record 1 of Set 5 : itarema\n",
      "Processing Record 2 of Set 5 : camocim\n",
      "Processing Record 3 of Set 5 : shadegan\n",
      "Processing Record 4 of Set 5 : lavrentiya\n",
      "Processing Record 5 of Set 5 : doha\n",
      "City not found. Skipping...\n",
      "Processing Record 6 of Set 5 : pangnirtung\n",
      "Processing Record 7 of Set 5 : mapiripan\n",
      "Processing Record 8 of Set 5 : saint-philippe\n",
      "Processing Record 9 of Set 5 : manga\n",
      "Processing Record 10 of Set 5 : necochea\n",
      "City not found. Skipping...\n",
      "City not found. Skipping...\n",
      "Processing Record 11 of Set 5 : georgetown\n",
      "Processing Record 12 of Set 5 : san cristobal\n",
      "Processing Record 13 of Set 5 : faanui\n",
      "Processing Record 14 of Set 5 : zaragoza\n",
      "Processing Record 15 of Set 5 : guerrero negro\n",
      "City not found. Skipping...\n",
      "Processing Record 16 of Set 5 : sorong\n",
      "Processing Record 17 of Set 5 : suamico\n",
      "Processing Record 18 of Set 5 : caravelas\n",
      "Processing Record 19 of Set 5 : cayhagan\n",
      "City not found. Skipping...\n",
      "Processing Record 20 of Set 5 : santa fe\n",
      "Processing Record 21 of Set 5 : saint-gaudens\n",
      "City not found. Skipping...\n",
      "Processing Record 22 of Set 5 : borovoy\n",
      "Processing Record 23 of Set 5 : topolovatu mare\n",
      "Processing Record 24 of Set 5 : pasighat\n",
      "Processing Record 25 of Set 5 : kavaratti\n",
      "Processing Record 26 of Set 5 : mayumba\n",
      "Processing Record 27 of Set 5 : port hawkesbury\n",
      "Processing Record 28 of Set 5 : atar\n",
      "Processing Record 29 of Set 5 : verkhnevilyuysk\n",
      "Processing Record 30 of Set 5 : puerto rico\n",
      "Processing Record 31 of Set 5 : kaoma\n",
      "Processing Record 32 of Set 5 : port-cartier\n",
      "Processing Record 33 of Set 5 : antalaha\n",
      "Processing Record 34 of Set 5 : carballo\n",
      "Processing Record 35 of Set 5 : bonavista\n",
      "Processing Record 36 of Set 5 : fort nelson\n",
      "Processing Record 37 of Set 5 : grindavik\n",
      "Processing Record 38 of Set 5 : niamey\n",
      "Processing Record 39 of Set 5 : feijo\n",
      "Processing Record 40 of Set 5 : mawlaik\n",
      "Processing Record 41 of Set 5 : lively\n",
      "Processing Record 42 of Set 5 : sa kaeo\n",
      "Processing Record 43 of Set 5 : shellbrook\n",
      "Processing Record 44 of Set 5 : korla\n",
      "Processing Record 45 of Set 5 : prata\n",
      "Processing Record 46 of Set 5 : lalibela\n",
      "Processing Record 47 of Set 5 : nemuro\n",
      "Processing Record 48 of Set 5 : vanimo\n",
      "Processing Record 49 of Set 5 : linkoping\n",
      "Processing Record 50 of Set 5 : rawson\n",
      "Processing Record 0 of Set 6 : mount gambier\n",
      "Processing Record 1 of Set 6 : faya\n",
      "Processing Record 2 of Set 6 : dukat\n",
      "Processing Record 3 of Set 6 : haverfordwest\n",
      "Processing Record 4 of Set 6 : khandbari\n",
      "Processing Record 5 of Set 6 : lompoc\n",
      "Processing Record 6 of Set 6 : makakilo city\n",
      "Processing Record 7 of Set 6 : beloha\n",
      "City not found. Skipping...\n",
      "Processing Record 8 of Set 6 : nioro\n",
      "Processing Record 9 of Set 6 : san juan\n",
      "Processing Record 10 of Set 6 : torrox\n",
      "Processing Record 11 of Set 6 : victoria\n",
      "Processing Record 12 of Set 6 : khilok\n",
      "Processing Record 13 of Set 6 : kayerkan\n",
      "Processing Record 14 of Set 6 : porto santo\n",
      "Processing Record 15 of Set 6 : loukhi\n",
      "Processing Record 16 of Set 6 : barela\n",
      "Processing Record 17 of Set 6 : mogocha\n",
      "Processing Record 18 of Set 6 : polis\n",
      "Processing Record 19 of Set 6 : abu samrah\n",
      "Processing Record 20 of Set 6 : mazamari\n",
      "Processing Record 21 of Set 6 : peace river\n",
      "Processing Record 22 of Set 6 : iralaya\n",
      "Processing Record 23 of Set 6 : muros\n",
      "Processing Record 24 of Set 6 : totness\n",
      "Processing Record 25 of Set 6 : talnakh\n",
      "Processing Record 26 of Set 6 : saint-joseph\n",
      "Processing Record 27 of Set 6 : dashitou\n",
      "Processing Record 28 of Set 6 : sohbatpur\n",
      "Processing Record 29 of Set 6 : alta floresta\n",
      "City not found. Skipping...\n",
      "Processing Record 30 of Set 6 : batticaloa\n",
      "Processing Record 31 of Set 6 : degollado\n",
      "Processing Record 32 of Set 6 : havre-saint-pierre\n",
      "Processing Record 33 of Set 6 : ahipara\n",
      "City not found. Skipping...\n",
      "Processing Record 34 of Set 6 : pucallpa\n",
      "Processing Record 35 of Set 6 : chokurdakh\n",
      "Processing Record 36 of Set 6 : lagoa\n",
      "Processing Record 37 of Set 6 : pacific grove\n",
      "Processing Record 38 of Set 6 : la asuncion\n",
      "Processing Record 39 of Set 6 : almaznyy\n",
      "Processing Record 40 of Set 6 : muli\n",
      "Processing Record 41 of Set 6 : zapolyarnyy\n",
      "Processing Record 42 of Set 6 : kieta\n",
      "Processing Record 43 of Set 6 : yumen\n",
      "Processing Record 44 of Set 6 : chuy\n",
      "Processing Record 45 of Set 6 : pedasi\n",
      "Processing Record 46 of Set 6 : oxbow\n",
      "Processing Record 47 of Set 6 : huarmey\n",
      "Processing Record 48 of Set 6 : beringovskiy\n",
      "Processing Record 49 of Set 6 : kedrovyy\n",
      "City not found. Skipping...\n",
      "Processing Record 50 of Set 6 : aitape\n",
      "Processing Record 0 of Set 7 : yenagoa\n",
      "Processing Record 1 of Set 7 : warkworth\n",
      "Processing Record 2 of Set 7 : cap malheureux\n",
      "Processing Record 3 of Set 7 : kapit\n",
      "Processing Record 4 of Set 7 : camacha\n",
      "Processing Record 5 of Set 7 : marrakesh\n",
      "Processing Record 6 of Set 7 : naze\n",
      "Processing Record 7 of Set 7 : andenes\n",
      "Processing Record 8 of Set 7 : mehamn\n",
      "Processing Record 9 of Set 7 : tiarei\n",
      "Processing Record 10 of Set 7 : artigas\n",
      "Processing Record 11 of Set 7 : amurzet\n",
      "Processing Record 12 of Set 7 : haines junction\n",
      "Processing Record 13 of Set 7 : omboue\n",
      "Processing Record 14 of Set 7 : mweka\n",
      "Processing Record 15 of Set 7 : tommot\n",
      "Processing Record 16 of Set 7 : los llanos de aridane\n",
      "Processing Record 17 of Set 7 : bethel\n",
      "Processing Record 18 of Set 7 : shunyi\n",
      "Processing Record 19 of Set 7 : liwale\n",
      "Processing Record 20 of Set 7 : barabai\n",
      "Processing Record 21 of Set 7 : codrington\n",
      "Processing Record 22 of Set 7 : pevek\n",
      "Processing Record 23 of Set 7 : unjha\n",
      "Processing Record 24 of Set 7 : winona\n",
      "City not found. Skipping...\n",
      "Processing Record 25 of Set 7 : sal rei\n",
      "Processing Record 26 of Set 7 : mwinilunga\n",
      "Processing Record 27 of Set 7 : denpasar\n",
      "Processing Record 28 of Set 7 : yate\n",
      "Processing Record 29 of Set 7 : alcudia\n",
      "Processing Record 30 of Set 7 : baiyin\n",
      "Processing Record 31 of Set 7 : belmonte\n",
      "Processing Record 32 of Set 7 : chhapar\n",
      "Processing Record 33 of Set 7 : khotkovo\n",
      "Processing Record 34 of Set 7 : hambantota\n",
      "Processing Record 35 of Set 7 : mao\n",
      "Processing Record 36 of Set 7 : mondlo\n",
      "Processing Record 37 of Set 7 : maputo\n",
      "Processing Record 38 of Set 7 : kavieng\n",
      "Processing Record 39 of Set 7 : bondo\n",
      "Processing Record 40 of Set 7 : pangai\n",
      "Processing Record 41 of Set 7 : nouadhibou\n",
      "Processing Record 42 of Set 7 : ewo\n",
      "Processing Record 43 of Set 7 : aginskoye\n",
      "Processing Record 44 of Set 7 : lastoursville\n",
      "Processing Record 45 of Set 7 : coquimbo\n",
      "Processing Record 46 of Set 7 : trang\n",
      "Processing Record 47 of Set 7 : parjol\n",
      "Processing Record 48 of Set 7 : bad windsheim\n",
      "Processing Record 49 of Set 7 : muzhi\n",
      "Processing Record 50 of Set 7 : sept-iles\n",
      "Processing Record 0 of Set 8 : aguililla\n",
      "City not found. Skipping...\n",
      "Processing Record 1 of Set 8 : halle\n",
      "Processing Record 2 of Set 8 : boende\n",
      "Processing Record 3 of Set 8 : alyangula\n",
      "Processing Record 4 of Set 8 : laguna\n",
      "Processing Record 5 of Set 8 : nieves\n",
      "Processing Record 6 of Set 8 : ayagoz\n",
      "Processing Record 7 of Set 8 : bardiyah\n",
      "Processing Record 8 of Set 8 : russell\n",
      "Processing Record 9 of Set 8 : hualmay\n",
      "Processing Record 10 of Set 8 : longyearbyen\n",
      "Processing Record 11 of Set 8 : grand gaube\n",
      "Processing Record 12 of Set 8 : kerman\n",
      "Processing Record 13 of Set 8 : inhambane\n",
      "Processing Record 14 of Set 8 : havoysund\n",
      "Processing Record 15 of Set 8 : riachao\n",
      "Processing Record 16 of Set 8 : fortuna\n",
      "Processing Record 17 of Set 8 : ornskoldsvik\n",
      "Processing Record 18 of Set 8 : ambilobe\n",
      "City not found. Skipping...\n"
     ]
    },
    {
     "name": "stdout",
     "output_type": "stream",
     "text": [
      "Processing Record 19 of Set 8 : svetlogorsk\n",
      "Processing Record 20 of Set 8 : vestmannaeyjar\n",
      "Processing Record 21 of Set 8 : barranca\n",
      "Processing Record 22 of Set 8 : ntcheu\n",
      "Processing Record 23 of Set 8 : road town\n",
      "Processing Record 24 of Set 8 : bucerias\n",
      "Processing Record 25 of Set 8 : banepa\n",
      "Processing Record 26 of Set 8 : san luis\n",
      "Processing Record 27 of Set 8 : kendari\n",
      "Processing Record 28 of Set 8 : ulverstone\n",
      "Processing Record 29 of Set 8 : urucara\n",
      "City not found. Skipping...\n",
      "Processing Record 30 of Set 8 : kulhudhuffushi\n",
      "Processing Record 31 of Set 8 : lata\n",
      "Processing Record 32 of Set 8 : chirongui\n",
      "Processing Record 33 of Set 8 : margate\n",
      "Processing Record 34 of Set 8 : mporokoso\n",
      "Processing Record 35 of Set 8 : zbarazh\n",
      "Processing Record 36 of Set 8 : badiraguato\n",
      "Processing Record 37 of Set 8 : strezhevoy\n",
      "Processing Record 38 of Set 8 : diapaga\n",
      "Processing Record 39 of Set 8 : garowe\n",
      "Processing Record 40 of Set 8 : hermiston\n",
      "Processing Record 41 of Set 8 : jasper\n",
      "Processing Record 42 of Set 8 : maceio\n",
      "Processing Record 43 of Set 8 : puerto narino\n",
      "Processing Record 44 of Set 8 : fairbanks\n",
      "Processing Record 45 of Set 8 : nipawin\n",
      "Processing Record 46 of Set 8 : shiraz\n",
      "Processing Record 47 of Set 8 : eureka\n",
      "Processing Record 48 of Set 8 : maniitsoq\n",
      "Processing Record 49 of Set 8 : myanaung\n",
      "City not found. Skipping...\n",
      "Processing Record 50 of Set 8 : rassvet\n",
      "City not found. Skipping...\n",
      "Processing Record 0 of Set 9 : opuwo\n",
      "Processing Record 1 of Set 9 : karia\n",
      "Processing Record 2 of Set 9 : zheleznodorozhnyy\n",
      "Processing Record 3 of Set 9 : dzilam gonzalez\n",
      "Processing Record 4 of Set 9 : lorengau\n",
      "Processing Record 5 of Set 9 : port blair\n",
      "Processing Record 6 of Set 9 : acapulco\n",
      "Processing Record 7 of Set 9 : chicama\n",
      "Processing Record 8 of Set 9 : bruhl\n",
      "Processing Record 9 of Set 9 : otane\n",
      "Processing Record 10 of Set 9 : sistranda\n",
      "Processing Record 11 of Set 9 : erzin\n",
      "Processing Record 12 of Set 9 : chhuikhadan\n",
      "Processing Record 13 of Set 9 : mana\n",
      "Processing Record 14 of Set 9 : foca\n",
      "Processing Record 15 of Set 9 : mantes-la-ville\n",
      "Processing Record 16 of Set 9 : sao joao da barra\n",
      "Processing Record 17 of Set 9 : paraopeba\n",
      "Processing Record 18 of Set 9 : teya\n",
      "City not found. Skipping...\n",
      "Processing Record 19 of Set 9 : olinda\n",
      "City not found. Skipping...\n",
      "Processing Record 20 of Set 9 : santa maria\n",
      "Processing Record 21 of Set 9 : shenkursk\n",
      "Processing Record 22 of Set 9 : inyonga\n",
      "Processing Record 23 of Set 9 : ouadda\n",
      "Processing Record 24 of Set 9 : wanning\n",
      "Processing Record 25 of Set 9 : green river\n",
      "Processing Record 26 of Set 9 : juba\n",
      "Processing Record 27 of Set 9 : iqaluit\n",
      "Processing Record 28 of Set 9 : sarahan\n",
      "Processing Record 29 of Set 9 : bilibino\n",
      "Processing Record 30 of Set 9 : kefamenanu\n",
      "Processing Record 31 of Set 9 : puerto escondido\n",
      "Processing Record 32 of Set 9 : rockport\n",
      "Processing Record 33 of Set 9 : alofi\n",
      "Processing Record 34 of Set 9 : san lawrenz\n",
      "Processing Record 35 of Set 9 : kawerau\n",
      "Processing Record 36 of Set 9 : the pas\n",
      "Processing Record 37 of Set 9 : ketchikan\n",
      "Processing Record 38 of Set 9 : chippewa falls\n",
      "Processing Record 39 of Set 9 : marsabit\n",
      "Processing Record 40 of Set 9 : novikovo\n",
      "Processing Record 41 of Set 9 : yar-sale\n",
      "Processing Record 42 of Set 9 : fanai\n",
      "Processing Record 43 of Set 9 : teguise\n",
      "Processing Record 44 of Set 9 : gimli\n",
      "Processing Record 45 of Set 9 : umm lajj\n",
      "Processing Record 46 of Set 9 : micheweni\n",
      "Processing Record 47 of Set 9 : calama\n",
      "Processing Record 48 of Set 9 : bad wurzach\n",
      "Processing Record 49 of Set 9 : calbuco\n",
      "City not found. Skipping...\n",
      "Processing Record 50 of Set 9 : grenville\n",
      "Processing Record 0 of Set 10 : araouane\n",
      "Processing Record 1 of Set 10 : gweta\n",
      "Processing Record 2 of Set 10 : svetlyy\n",
      "Processing Record 3 of Set 10 : namtsy\n",
      "Processing Record 4 of Set 10 : kindu\n",
      "Processing Record 5 of Set 10 : maarianhamina\n",
      "Processing Record 6 of Set 10 : ossora\n",
      "Processing Record 7 of Set 10 : bowen\n",
      "Processing Record 8 of Set 10 : dunedin\n",
      "Processing Record 9 of Set 10 : tallahassee\n",
      "Processing Record 10 of Set 10 : praia da vitoria\n",
      "Processing Record 11 of Set 10 : cravo norte\n",
      "Processing Record 12 of Set 10 : marawi\n",
      "Processing Record 13 of Set 10 : geraldton\n",
      "City not found. Skipping...\n",
      "Processing Record 14 of Set 10 : tromso\n",
      "Processing Record 15 of Set 10 : touros\n",
      "Processing Record 16 of Set 10 : takoradi\n",
      "Processing Record 17 of Set 10 : kirakira\n",
      "Processing Record 18 of Set 10 : linhares\n",
      "Processing Record 19 of Set 10 : vanavara\n",
      "Processing Record 20 of Set 10 : la rioja\n",
      "Processing Record 21 of Set 10 : liku\n",
      "Processing Record 22 of Set 10 : severo-yeniseyskiy\n",
      "Processing Record 23 of Set 10 : rondonopolis\n",
      "Processing Record 24 of Set 10 : punta de bombon\n",
      "Processing Record 25 of Set 10 : zhanaozen\n",
      "Processing Record 26 of Set 10 : puri\n",
      "Processing Record 27 of Set 10 : kuroiso\n",
      "City not found. Skipping...\n",
      "Processing Record 28 of Set 10 : san quintin\n",
      "Processing Record 29 of Set 10 : komsomolskiy\n",
      "Processing Record 30 of Set 10 : hutchinson\n",
      "Processing Record 31 of Set 10 : xixiang\n",
      "Processing Record 32 of Set 10 : leshukonskoye\n",
      "Processing Record 33 of Set 10 : port augusta\n",
      "Processing Record 34 of Set 10 : souillac\n",
      "Processing Record 35 of Set 10 : tessalit\n",
      "Processing Record 36 of Set 10 : airai\n",
      "Processing Record 37 of Set 10 : benguela\n",
      "Processing Record 38 of Set 10 : flinders\n",
      "Processing Record 39 of Set 10 : sobolevo\n",
      "Processing Record 40 of Set 10 : teguldet\n",
      "Processing Record 41 of Set 10 : egvekinot\n",
      "Processing Record 42 of Set 10 : arlit\n",
      "Processing Record 43 of Set 10 : bakaly\n",
      "Processing Record 44 of Set 10 : nabire\n",
      "Processing Record 45 of Set 10 : labytnangi\n",
      "Processing Record 46 of Set 10 : alfredo chaves\n",
      "Processing Record 47 of Set 10 : marzuq\n",
      "Processing Record 48 of Set 10 : vangaindrano\n",
      "Processing Record 49 of Set 10 : bauchi\n",
      "Processing Record 50 of Set 10 : cockburn town\n",
      "Processing Record 0 of Set 11 : hays\n",
      "Processing Record 1 of Set 11 : trairi\n",
      "Processing Record 2 of Set 11 : chumikan\n",
      "Processing Record 3 of Set 11 : quatre cocos\n",
      "Processing Record 4 of Set 11 : severodvinsk\n",
      "Processing Record 5 of Set 11 : cozumel\n",
      "Processing Record 6 of Set 11 : gamboma\n",
      "Processing Record 7 of Set 11 : coihaique\n",
      "Processing Record 8 of Set 11 : qaqortoq\n",
      "Processing Record 9 of Set 11 : constitucion\n",
      "Processing Record 10 of Set 11 : kruisfontein\n",
      "Processing Record 11 of Set 11 : yuci\n",
      "Processing Record 12 of Set 11 : beroroha\n",
      "Processing Record 13 of Set 11 : flin flon\n",
      "Processing Record 14 of Set 11 : payo\n",
      "Processing Record 15 of Set 11 : alamos\n",
      "City not found. Skipping...\n",
      "Processing Record 16 of Set 11 : gravdal\n",
      "Processing Record 17 of Set 11 : lagos\n",
      "Processing Record 18 of Set 11 : saint-pierre\n",
      "Processing Record 19 of Set 11 : malanje\n",
      "Processing Record 20 of Set 11 : villa florida\n",
      "Processing Record 21 of Set 11 : ribeira brava\n",
      "Processing Record 22 of Set 11 : gerardmer\n",
      "Processing Record 23 of Set 11 : qasigiannguit\n",
      "Processing Record 24 of Set 11 : alihe\n",
      "Processing Record 25 of Set 11 : new castle\n",
      "Processing Record 26 of Set 11 : sao miguel do araguaia\n",
      "Processing Record 27 of Set 11 : nakhon nayok\n",
      "Processing Record 28 of Set 11 : jackson\n",
      "Processing Record 29 of Set 11 : agalatovo\n",
      "Processing Record 30 of Set 11 : asyut\n",
      "Processing Record 31 of Set 11 : kokologo\n",
      "Processing Record 32 of Set 11 : noumea\n",
      "Processing Record 33 of Set 11 : natal\n",
      "Processing Record 34 of Set 11 : sagar\n",
      "Processing Record 35 of Set 11 : puerto cabello\n",
      "Processing Record 36 of Set 11 : sorland\n",
      "Processing Record 37 of Set 11 : sola\n",
      "Processing Record 38 of Set 11 : vengurla\n",
      "Processing Record 39 of Set 11 : port lincoln\n",
      "Processing Record 40 of Set 11 : comodoro rivadavia\n",
      "Processing Record 41 of Set 11 : amursk\n",
      "Processing Record 42 of Set 11 : shimoda\n",
      "Processing Record 43 of Set 11 : oskarshamn\n",
      "Processing Record 44 of Set 11 : pegnitz\n",
      "Processing Record 45 of Set 11 : cedar city\n",
      "Processing Record 46 of Set 11 : biak\n",
      "-------------------------------\n",
      "Data Retrieval Complete\n",
      "-------------------------------\n"
     ]
    }
   ],
   "source": [
    "# print log \n",
    "print(f\"Beginning Data Retrieval\")\n",
    "print(f\"-------------------------------\")\n",
    "\n",
    "\n",
    "# for loop matching city names with city_list\n",
    "for index, city in enumerate(cities, start = 1):\n",
    "    try:\n",
    "        response = requests.get(query_url + city).json()\n",
    "        city_list.append(response[\"name\"])\n",
    "        cloudiness_list.append(response[\"clouds\"][\"all\"])\n",
    "        country_list.append(response[\"sys\"][\"country\"])\n",
    "        date_list.append(response[\"dt\"])\n",
    "        humidity_list.append(response[\"main\"][\"humidity\"])\n",
    "        lat_list.append(response[\"coord\"][\"lat\"])\n",
    "        lng_list.append(response[\"coord\"][\"lon\"])\n",
    "        max_temp_list.append(response['main']['temp_max'])\n",
    "        wind_speed_list.append(response[\"wind\"][\"speed\"])\n",
    "        if index_counter > 49:\n",
    "            index_counter = 0\n",
    "            set_counter = set_counter + 1\n",
    "        \n",
    "        else:\n",
    "            index_counter = index_counter + 1\n",
    "        \n",
    "        print(f\"Processing Record {index_counter} of Set {set_counter} : {city}\")\n",
    "        \n",
    "    except(KeyError, IndexError):\n",
    "        print(\"City not found. Skipping...\")\n",
    "\n",
    "\n",
    "print(f\"-------------------------------\")\n",
    "print(f\"Data Retrieval Complete\")\n",
    "print(f\"-------------------------------\")"
   ]
  },
  {
   "cell_type": "markdown",
   "metadata": {},
   "source": [
    "### Convert Raw Data to DataFrame\n",
    "* Export the city data into a .csv.\n",
    "* Display the DataFrame"
   ]
  },
  {
   "cell_type": "code",
   "execution_count": 45,
   "metadata": {},
   "outputs": [
    {
     "data": {
      "text/html": [
       "<div>\n",
       "<style scoped>\n",
       "    .dataframe tbody tr th:only-of-type {\n",
       "        vertical-align: middle;\n",
       "    }\n",
       "\n",
       "    .dataframe tbody tr th {\n",
       "        vertical-align: top;\n",
       "    }\n",
       "\n",
       "    .dataframe thead th {\n",
       "        text-align: right;\n",
       "    }\n",
       "</style>\n",
       "<table border=\"1\" class=\"dataframe\">\n",
       "  <thead>\n",
       "    <tr style=\"text-align: right;\">\n",
       "      <th></th>\n",
       "      <th>City</th>\n",
       "      <th>Lat</th>\n",
       "      <th>Lng</th>\n",
       "      <th>Max Temp</th>\n",
       "      <th>Humidity</th>\n",
       "      <th>Cloudiness</th>\n",
       "      <th>Wind Speed</th>\n",
       "      <th>Country</th>\n",
       "      <th>Date</th>\n",
       "    </tr>\n",
       "  </thead>\n",
       "  <tbody>\n",
       "    <tr>\n",
       "      <th>0</th>\n",
       "      <td>Yulara</td>\n",
       "      <td>-25.2406</td>\n",
       "      <td>130.9889</td>\n",
       "      <td>89.44</td>\n",
       "      <td>20</td>\n",
       "      <td>0</td>\n",
       "      <td>16.11</td>\n",
       "      <td>AU</td>\n",
       "      <td>1638933398</td>\n",
       "    </tr>\n",
       "    <tr>\n",
       "      <th>1</th>\n",
       "      <td>Kasimov</td>\n",
       "      <td>54.9411</td>\n",
       "      <td>41.3953</td>\n",
       "      <td>34.56</td>\n",
       "      <td>100</td>\n",
       "      <td>100</td>\n",
       "      <td>8.93</td>\n",
       "      <td>RU</td>\n",
       "      <td>1638933399</td>\n",
       "    </tr>\n",
       "    <tr>\n",
       "      <th>2</th>\n",
       "      <td>Hasaki</td>\n",
       "      <td>35.7333</td>\n",
       "      <td>140.8333</td>\n",
       "      <td>50.40</td>\n",
       "      <td>85</td>\n",
       "      <td>100</td>\n",
       "      <td>39.44</td>\n",
       "      <td>JP</td>\n",
       "      <td>1638933400</td>\n",
       "    </tr>\n",
       "    <tr>\n",
       "      <th>3</th>\n",
       "      <td>Kaitangata</td>\n",
       "      <td>-46.2817</td>\n",
       "      <td>169.8464</td>\n",
       "      <td>64.92</td>\n",
       "      <td>76</td>\n",
       "      <td>98</td>\n",
       "      <td>0.76</td>\n",
       "      <td>NZ</td>\n",
       "      <td>1638933400</td>\n",
       "    </tr>\n",
       "    <tr>\n",
       "      <th>4</th>\n",
       "      <td>Great Yarmouth</td>\n",
       "      <td>52.6083</td>\n",
       "      <td>1.7305</td>\n",
       "      <td>43.23</td>\n",
       "      <td>75</td>\n",
       "      <td>37</td>\n",
       "      <td>24.61</td>\n",
       "      <td>GB</td>\n",
       "      <td>1638933401</td>\n",
       "    </tr>\n",
       "  </tbody>\n",
       "</table>\n",
       "</div>"
      ],
      "text/plain": [
       "             City      Lat       Lng  Max Temp  Humidity  Cloudiness  \\\n",
       "0          Yulara -25.2406  130.9889     89.44        20           0   \n",
       "1         Kasimov  54.9411   41.3953     34.56       100         100   \n",
       "2          Hasaki  35.7333  140.8333     50.40        85         100   \n",
       "3      Kaitangata -46.2817  169.8464     64.92        76          98   \n",
       "4  Great Yarmouth  52.6083    1.7305     43.23        75          37   \n",
       "\n",
       "   Wind Speed Country        Date  \n",
       "0       16.11      AU  1638933398  \n",
       "1        8.93      RU  1638933399  \n",
       "2       39.44      JP  1638933400  \n",
       "3        0.76      NZ  1638933400  \n",
       "4       24.61      GB  1638933401  "
      ]
     },
     "execution_count": 45,
     "metadata": {},
     "output_type": "execute_result"
    }
   ],
   "source": [
    "#Create a dataframe using information from city weather data\n",
    "cities_df = pd.DataFrame({\n",
    "    \"City\" : city_list,\n",
    "    \"Lat\" : lat_list,\n",
    "    \"Lng\" : lng_list,\n",
    "    \"Max Temp\" : max_temp_list,\n",
    "    \"Humidity\" : humidity_list,\n",
    "    \"Cloudiness\" : cloudiness_list,\n",
    "    \"Wind Speed\" : wind_speed_list,\n",
    "    \"Country\" : country_list,\n",
    "    \"Date\" : date_list    \n",
    "})\n",
    "cities_df.head()"
   ]
  },
  {
   "cell_type": "code",
   "execution_count": 46,
   "metadata": {},
   "outputs": [],
   "source": [
    "#saves output file for WeatherPy folder\n",
    "cities_df.to_csv(\"weather_cities_output.csv\")"
   ]
  },
  {
   "cell_type": "code",
   "execution_count": 32,
   "metadata": {},
   "outputs": [
    {
     "data": {
      "text/html": [
       "<div>\n",
       "<style scoped>\n",
       "    .dataframe tbody tr th:only-of-type {\n",
       "        vertical-align: middle;\n",
       "    }\n",
       "\n",
       "    .dataframe tbody tr th {\n",
       "        vertical-align: top;\n",
       "    }\n",
       "\n",
       "    .dataframe thead th {\n",
       "        text-align: right;\n",
       "    }\n",
       "</style>\n",
       "<table border=\"1\" class=\"dataframe\">\n",
       "  <thead>\n",
       "    <tr style=\"text-align: right;\">\n",
       "      <th></th>\n",
       "      <th>Lat</th>\n",
       "      <th>Lng</th>\n",
       "      <th>Max Temp</th>\n",
       "      <th>Humidity</th>\n",
       "      <th>Cloudiness</th>\n",
       "      <th>Wind Speed</th>\n",
       "      <th>Date</th>\n",
       "    </tr>\n",
       "  </thead>\n",
       "  <tbody>\n",
       "    <tr>\n",
       "      <th>count</th>\n",
       "      <td>556.000000</td>\n",
       "      <td>556.000000</td>\n",
       "      <td>556.000000</td>\n",
       "      <td>556.000000</td>\n",
       "      <td>556.000000</td>\n",
       "      <td>556.000000</td>\n",
       "      <td>5.560000e+02</td>\n",
       "    </tr>\n",
       "    <tr>\n",
       "      <th>mean</th>\n",
       "      <td>19.978479</td>\n",
       "      <td>14.800979</td>\n",
       "      <td>52.021115</td>\n",
       "      <td>73.050360</td>\n",
       "      <td>59.717626</td>\n",
       "      <td>8.115612</td>\n",
       "      <td>1.638934e+09</td>\n",
       "    </tr>\n",
       "    <tr>\n",
       "      <th>std</th>\n",
       "      <td>33.003518</td>\n",
       "      <td>88.176076</td>\n",
       "      <td>28.657550</td>\n",
       "      <td>19.814118</td>\n",
       "      <td>39.314547</td>\n",
       "      <td>6.629463</td>\n",
       "      <td>1.083313e+02</td>\n",
       "    </tr>\n",
       "    <tr>\n",
       "      <th>min</th>\n",
       "      <td>-54.800000</td>\n",
       "      <td>-179.166700</td>\n",
       "      <td>-44.810000</td>\n",
       "      <td>12.000000</td>\n",
       "      <td>0.000000</td>\n",
       "      <td>0.000000</td>\n",
       "      <td>1.638933e+09</td>\n",
       "    </tr>\n",
       "    <tr>\n",
       "      <th>25%</th>\n",
       "      <td>-7.076300</td>\n",
       "      <td>-58.931775</td>\n",
       "      <td>31.967500</td>\n",
       "      <td>63.000000</td>\n",
       "      <td>18.000000</td>\n",
       "      <td>3.435000</td>\n",
       "      <td>1.638933e+09</td>\n",
       "    </tr>\n",
       "    <tr>\n",
       "      <th>50%</th>\n",
       "      <td>21.497250</td>\n",
       "      <td>17.697550</td>\n",
       "      <td>61.210000</td>\n",
       "      <td>77.000000</td>\n",
       "      <td>75.000000</td>\n",
       "      <td>6.450000</td>\n",
       "      <td>1.638934e+09</td>\n",
       "    </tr>\n",
       "    <tr>\n",
       "      <th>75%</th>\n",
       "      <td>48.051975</td>\n",
       "      <td>85.691375</td>\n",
       "      <td>74.932500</td>\n",
       "      <td>88.000000</td>\n",
       "      <td>99.000000</td>\n",
       "      <td>11.082500</td>\n",
       "      <td>1.638934e+09</td>\n",
       "    </tr>\n",
       "    <tr>\n",
       "      <th>max</th>\n",
       "      <td>78.218600</td>\n",
       "      <td>179.316700</td>\n",
       "      <td>94.770000</td>\n",
       "      <td>100.000000</td>\n",
       "      <td>100.000000</td>\n",
       "      <td>42.320000</td>\n",
       "      <td>1.638934e+09</td>\n",
       "    </tr>\n",
       "  </tbody>\n",
       "</table>\n",
       "</div>"
      ],
      "text/plain": [
       "              Lat         Lng    Max Temp    Humidity  Cloudiness  Wind Speed  \\\n",
       "count  556.000000  556.000000  556.000000  556.000000  556.000000  556.000000   \n",
       "mean    19.978479   14.800979   52.021115   73.050360   59.717626    8.115612   \n",
       "std     33.003518   88.176076   28.657550   19.814118   39.314547    6.629463   \n",
       "min    -54.800000 -179.166700  -44.810000   12.000000    0.000000    0.000000   \n",
       "25%     -7.076300  -58.931775   31.967500   63.000000   18.000000    3.435000   \n",
       "50%     21.497250   17.697550   61.210000   77.000000   75.000000    6.450000   \n",
       "75%     48.051975   85.691375   74.932500   88.000000   99.000000   11.082500   \n",
       "max     78.218600  179.316700   94.770000  100.000000  100.000000   42.320000   \n",
       "\n",
       "               Date  \n",
       "count  5.560000e+02  \n",
       "mean   1.638934e+09  \n",
       "std    1.083313e+02  \n",
       "min    1.638933e+09  \n",
       "25%    1.638933e+09  \n",
       "50%    1.638934e+09  \n",
       "75%    1.638934e+09  \n",
       "max    1.638934e+09  "
      ]
     },
     "execution_count": 32,
     "metadata": {},
     "output_type": "execute_result"
    }
   ],
   "source": [
    "# shows measures of central tendencity for df\n",
    "cities_df.describe()"
   ]
  },
  {
   "cell_type": "markdown",
   "metadata": {},
   "source": [
    "## Inspect the data and remove the cities where the humidity > 100%.\n",
    "----\n",
    "Skip this step if there are no cities that have humidity > 100%. "
   ]
  },
  {
   "cell_type": "code",
   "execution_count": 33,
   "metadata": {},
   "outputs": [
    {
     "data": {
      "text/html": [
       "<div>\n",
       "<style scoped>\n",
       "    .dataframe tbody tr th:only-of-type {\n",
       "        vertical-align: middle;\n",
       "    }\n",
       "\n",
       "    .dataframe tbody tr th {\n",
       "        vertical-align: top;\n",
       "    }\n",
       "\n",
       "    .dataframe thead th {\n",
       "        text-align: right;\n",
       "    }\n",
       "</style>\n",
       "<table border=\"1\" class=\"dataframe\">\n",
       "  <thead>\n",
       "    <tr style=\"text-align: right;\">\n",
       "      <th></th>\n",
       "      <th>City</th>\n",
       "      <th>Lat</th>\n",
       "      <th>Lng</th>\n",
       "      <th>Max Temp</th>\n",
       "      <th>Humidity</th>\n",
       "      <th>Cloudiness</th>\n",
       "      <th>Wind Speed</th>\n",
       "      <th>Country</th>\n",
       "      <th>Date</th>\n",
       "    </tr>\n",
       "  </thead>\n",
       "  <tbody>\n",
       "    <tr>\n",
       "      <th>1</th>\n",
       "      <td>Kasimov</td>\n",
       "      <td>54.9411</td>\n",
       "      <td>41.3953</td>\n",
       "      <td>34.56</td>\n",
       "      <td>100</td>\n",
       "      <td>100</td>\n",
       "      <td>8.93</td>\n",
       "      <td>RU</td>\n",
       "      <td>1638933399</td>\n",
       "    </tr>\n",
       "    <tr>\n",
       "      <th>64</th>\n",
       "      <td>Pavelets</td>\n",
       "      <td>53.7883</td>\n",
       "      <td>39.2460</td>\n",
       "      <td>33.12</td>\n",
       "      <td>100</td>\n",
       "      <td>100</td>\n",
       "      <td>5.64</td>\n",
       "      <td>RU</td>\n",
       "      <td>1638933439</td>\n",
       "    </tr>\n",
       "    <tr>\n",
       "      <th>113</th>\n",
       "      <td>Nikolskoye</td>\n",
       "      <td>59.7035</td>\n",
       "      <td>30.7861</td>\n",
       "      <td>10.29</td>\n",
       "      <td>100</td>\n",
       "      <td>93</td>\n",
       "      <td>3.33</td>\n",
       "      <td>RU</td>\n",
       "      <td>1638933469</td>\n",
       "    </tr>\n",
       "    <tr>\n",
       "      <th>145</th>\n",
       "      <td>Mossendjo</td>\n",
       "      <td>-2.9506</td>\n",
       "      <td>12.7261</td>\n",
       "      <td>69.67</td>\n",
       "      <td>100</td>\n",
       "      <td>100</td>\n",
       "      <td>1.52</td>\n",
       "      <td>CG</td>\n",
       "      <td>1638933489</td>\n",
       "    </tr>\n",
       "    <tr>\n",
       "      <th>289</th>\n",
       "      <td>Chokurdakh</td>\n",
       "      <td>70.6333</td>\n",
       "      <td>147.9167</td>\n",
       "      <td>-42.54</td>\n",
       "      <td>100</td>\n",
       "      <td>56</td>\n",
       "      <td>3.71</td>\n",
       "      <td>RU</td>\n",
       "      <td>1638933572</td>\n",
       "    </tr>\n",
       "    <tr>\n",
       "      <th>319</th>\n",
       "      <td>Mweka</td>\n",
       "      <td>-4.8500</td>\n",
       "      <td>21.5667</td>\n",
       "      <td>68.83</td>\n",
       "      <td>100</td>\n",
       "      <td>100</td>\n",
       "      <td>1.03</td>\n",
       "      <td>CD</td>\n",
       "      <td>1638933588</td>\n",
       "    </tr>\n",
       "    <tr>\n",
       "      <th>327</th>\n",
       "      <td>Pevek</td>\n",
       "      <td>69.7008</td>\n",
       "      <td>170.3133</td>\n",
       "      <td>-24.23</td>\n",
       "      <td>100</td>\n",
       "      <td>100</td>\n",
       "      <td>2.55</td>\n",
       "      <td>RU</td>\n",
       "      <td>1638933593</td>\n",
       "    </tr>\n",
       "    <tr>\n",
       "      <th>461</th>\n",
       "      <td>Namtsy</td>\n",
       "      <td>62.7161</td>\n",
       "      <td>129.6658</td>\n",
       "      <td>-32.69</td>\n",
       "      <td>100</td>\n",
       "      <td>85</td>\n",
       "      <td>2.75</td>\n",
       "      <td>RU</td>\n",
       "      <td>1638933669</td>\n",
       "    </tr>\n",
       "    <tr>\n",
       "      <th>462</th>\n",
       "      <td>Kindu</td>\n",
       "      <td>-2.9500</td>\n",
       "      <td>25.9500</td>\n",
       "      <td>69.06</td>\n",
       "      <td>100</td>\n",
       "      <td>100</td>\n",
       "      <td>3.02</td>\n",
       "      <td>CD</td>\n",
       "      <td>1638933669</td>\n",
       "    </tr>\n",
       "  </tbody>\n",
       "</table>\n",
       "</div>"
      ],
      "text/plain": [
       "           City      Lat       Lng  Max Temp  Humidity  Cloudiness  \\\n",
       "1       Kasimov  54.9411   41.3953     34.56       100         100   \n",
       "64     Pavelets  53.7883   39.2460     33.12       100         100   \n",
       "113  Nikolskoye  59.7035   30.7861     10.29       100          93   \n",
       "145   Mossendjo  -2.9506   12.7261     69.67       100         100   \n",
       "289  Chokurdakh  70.6333  147.9167    -42.54       100          56   \n",
       "319       Mweka  -4.8500   21.5667     68.83       100         100   \n",
       "327       Pevek  69.7008  170.3133    -24.23       100         100   \n",
       "461      Namtsy  62.7161  129.6658    -32.69       100          85   \n",
       "462       Kindu  -2.9500   25.9500     69.06       100         100   \n",
       "\n",
       "     Wind Speed Country        Date  \n",
       "1          8.93      RU  1638933399  \n",
       "64         5.64      RU  1638933439  \n",
       "113        3.33      RU  1638933469  \n",
       "145        1.52      CG  1638933489  \n",
       "289        3.71      RU  1638933572  \n",
       "319        1.03      CD  1638933588  \n",
       "327        2.55      RU  1638933593  \n",
       "461        2.75      RU  1638933669  \n",
       "462        3.02      CD  1638933669  "
      ]
     },
     "execution_count": 33,
     "metadata": {},
     "output_type": "execute_result"
    }
   ],
   "source": [
    "#find cities with >=100 humidity, use .loc\n",
    "humidity_df= cities_df.loc[cities_df[\"Humidity\"] >=100].copy()\n",
    "humidity_df "
   ]
  },
  {
   "cell_type": "code",
   "execution_count": 34,
   "metadata": {},
   "outputs": [
    {
     "data": {
      "text/plain": [
       "1         Kasimov\n",
       "64       Pavelets\n",
       "113    Nikolskoye\n",
       "145     Mossendjo\n",
       "289    Chokurdakh\n",
       "319         Mweka\n",
       "327         Pevek\n",
       "461        Namtsy\n",
       "462         Kindu\n",
       "Name: City, dtype: object"
      ]
     },
     "execution_count": 34,
     "metadata": {},
     "output_type": "execute_result"
    }
   ],
   "source": [
    "humidity_df.City\n"
   ]
  },
  {
   "cell_type": "code",
   "execution_count": 35,
   "metadata": {},
   "outputs": [
    {
     "data": {
      "text/plain": [
       "Int64Index([1, 64, 113, 145, 289, 319, 327, 461, 462], dtype='int64')"
      ]
     },
     "execution_count": 35,
     "metadata": {},
     "output_type": "execute_result"
    }
   ],
   "source": [
    "#  Get the indices of cities that have humidity over 100%.\n",
    "humidity_df.index"
   ]
  },
  {
   "cell_type": "code",
   "execution_count": 36,
   "metadata": {},
   "outputs": [
    {
     "data": {
      "text/html": [
       "<div>\n",
       "<style scoped>\n",
       "    .dataframe tbody tr th:only-of-type {\n",
       "        vertical-align: middle;\n",
       "    }\n",
       "\n",
       "    .dataframe tbody tr th {\n",
       "        vertical-align: top;\n",
       "    }\n",
       "\n",
       "    .dataframe thead th {\n",
       "        text-align: right;\n",
       "    }\n",
       "</style>\n",
       "<table border=\"1\" class=\"dataframe\">\n",
       "  <thead>\n",
       "    <tr style=\"text-align: right;\">\n",
       "      <th></th>\n",
       "      <th>City</th>\n",
       "      <th>Lat</th>\n",
       "      <th>Lng</th>\n",
       "      <th>Max Temp</th>\n",
       "      <th>Humidity</th>\n",
       "      <th>Cloudiness</th>\n",
       "      <th>Wind Speed</th>\n",
       "      <th>Country</th>\n",
       "      <th>Date</th>\n",
       "    </tr>\n",
       "  </thead>\n",
       "  <tbody>\n",
       "    <tr>\n",
       "      <th>0</th>\n",
       "      <td>Yulara</td>\n",
       "      <td>-25.2406</td>\n",
       "      <td>130.9889</td>\n",
       "      <td>89.44</td>\n",
       "      <td>20</td>\n",
       "      <td>0</td>\n",
       "      <td>16.11</td>\n",
       "      <td>AU</td>\n",
       "      <td>1638933398</td>\n",
       "    </tr>\n",
       "    <tr>\n",
       "      <th>1</th>\n",
       "      <td>Kasimov</td>\n",
       "      <td>54.9411</td>\n",
       "      <td>41.3953</td>\n",
       "      <td>34.56</td>\n",
       "      <td>100</td>\n",
       "      <td>100</td>\n",
       "      <td>8.93</td>\n",
       "      <td>RU</td>\n",
       "      <td>1638933399</td>\n",
       "    </tr>\n",
       "    <tr>\n",
       "      <th>2</th>\n",
       "      <td>Hasaki</td>\n",
       "      <td>35.7333</td>\n",
       "      <td>140.8333</td>\n",
       "      <td>50.40</td>\n",
       "      <td>85</td>\n",
       "      <td>100</td>\n",
       "      <td>39.44</td>\n",
       "      <td>JP</td>\n",
       "      <td>1638933400</td>\n",
       "    </tr>\n",
       "    <tr>\n",
       "      <th>3</th>\n",
       "      <td>Kaitangata</td>\n",
       "      <td>-46.2817</td>\n",
       "      <td>169.8464</td>\n",
       "      <td>64.92</td>\n",
       "      <td>76</td>\n",
       "      <td>98</td>\n",
       "      <td>0.76</td>\n",
       "      <td>NZ</td>\n",
       "      <td>1638933400</td>\n",
       "    </tr>\n",
       "    <tr>\n",
       "      <th>4</th>\n",
       "      <td>Great Yarmouth</td>\n",
       "      <td>52.6083</td>\n",
       "      <td>1.7305</td>\n",
       "      <td>43.23</td>\n",
       "      <td>75</td>\n",
       "      <td>37</td>\n",
       "      <td>24.61</td>\n",
       "      <td>GB</td>\n",
       "      <td>1638933401</td>\n",
       "    </tr>\n",
       "    <tr>\n",
       "      <th>...</th>\n",
       "      <td>...</td>\n",
       "      <td>...</td>\n",
       "      <td>...</td>\n",
       "      <td>...</td>\n",
       "      <td>...</td>\n",
       "      <td>...</td>\n",
       "      <td>...</td>\n",
       "      <td>...</td>\n",
       "      <td>...</td>\n",
       "    </tr>\n",
       "    <tr>\n",
       "      <th>551</th>\n",
       "      <td>Shimoda</td>\n",
       "      <td>34.6667</td>\n",
       "      <td>138.9500</td>\n",
       "      <td>55.76</td>\n",
       "      <td>68</td>\n",
       "      <td>100</td>\n",
       "      <td>10.45</td>\n",
       "      <td>JP</td>\n",
       "      <td>1638933720</td>\n",
       "    </tr>\n",
       "    <tr>\n",
       "      <th>552</th>\n",
       "      <td>Oskarshamn</td>\n",
       "      <td>57.2645</td>\n",
       "      <td>16.4484</td>\n",
       "      <td>31.98</td>\n",
       "      <td>72</td>\n",
       "      <td>99</td>\n",
       "      <td>13.65</td>\n",
       "      <td>SE</td>\n",
       "      <td>1638933720</td>\n",
       "    </tr>\n",
       "    <tr>\n",
       "      <th>553</th>\n",
       "      <td>Pegnitz</td>\n",
       "      <td>49.7564</td>\n",
       "      <td>11.5450</td>\n",
       "      <td>32.49</td>\n",
       "      <td>96</td>\n",
       "      <td>96</td>\n",
       "      <td>8.34</td>\n",
       "      <td>DE</td>\n",
       "      <td>1638933721</td>\n",
       "    </tr>\n",
       "    <tr>\n",
       "      <th>554</th>\n",
       "      <td>Cedar City</td>\n",
       "      <td>37.6775</td>\n",
       "      <td>-113.0619</td>\n",
       "      <td>42.40</td>\n",
       "      <td>71</td>\n",
       "      <td>90</td>\n",
       "      <td>3.44</td>\n",
       "      <td>US</td>\n",
       "      <td>1638933721</td>\n",
       "    </tr>\n",
       "    <tr>\n",
       "      <th>555</th>\n",
       "      <td>Biak</td>\n",
       "      <td>-0.9131</td>\n",
       "      <td>122.8766</td>\n",
       "      <td>82.27</td>\n",
       "      <td>73</td>\n",
       "      <td>100</td>\n",
       "      <td>1.28</td>\n",
       "      <td>ID</td>\n",
       "      <td>1638933722</td>\n",
       "    </tr>\n",
       "  </tbody>\n",
       "</table>\n",
       "<p>551 rows × 9 columns</p>\n",
       "</div>"
      ],
      "text/plain": [
       "               City      Lat       Lng  Max Temp  Humidity  Cloudiness  \\\n",
       "0            Yulara -25.2406  130.9889     89.44        20           0   \n",
       "1           Kasimov  54.9411   41.3953     34.56       100         100   \n",
       "2            Hasaki  35.7333  140.8333     50.40        85         100   \n",
       "3        Kaitangata -46.2817  169.8464     64.92        76          98   \n",
       "4    Great Yarmouth  52.6083    1.7305     43.23        75          37   \n",
       "..              ...      ...       ...       ...       ...         ...   \n",
       "551         Shimoda  34.6667  138.9500     55.76        68         100   \n",
       "552      Oskarshamn  57.2645   16.4484     31.98        72          99   \n",
       "553         Pegnitz  49.7564   11.5450     32.49        96          96   \n",
       "554      Cedar City  37.6775 -113.0619     42.40        71          90   \n",
       "555            Biak  -0.9131  122.8766     82.27        73         100   \n",
       "\n",
       "     Wind Speed Country        Date  \n",
       "0         16.11      AU  1638933398  \n",
       "1          8.93      RU  1638933399  \n",
       "2         39.44      JP  1638933400  \n",
       "3          0.76      NZ  1638933400  \n",
       "4         24.61      GB  1638933401  \n",
       "..          ...     ...         ...  \n",
       "551       10.45      JP  1638933720  \n",
       "552       13.65      SE  1638933720  \n",
       "553        8.34      DE  1638933721  \n",
       "554        3.44      US  1638933721  \n",
       "555        1.28      ID  1638933722  \n",
       "\n",
       "[551 rows x 9 columns]"
      ]
     },
     "execution_count": 36,
     "metadata": {},
     "output_type": "execute_result"
    }
   ],
   "source": [
    "# Make a new DataFrame equal to the city data to drop all humidity outliers by index.\n",
    "# Passing \"inplace=False\" will make a copy of the city_data DataFrame, which we call \"clean_city_data\".\n",
    "clean_cities_df = cities_df.drop(index=[11, 277, 338, 390, 399], inplace=False)\n",
    "clean_cities_df\n"
   ]
  },
  {
   "cell_type": "code",
   "execution_count": 37,
   "metadata": {},
   "outputs": [
    {
     "data": {
      "text/plain": [
       "556"
      ]
     },
     "execution_count": 37,
     "metadata": {},
     "output_type": "execute_result"
    }
   ],
   "source": [
    "len(cities_df)\n"
   ]
  },
  {
   "cell_type": "code",
   "execution_count": 38,
   "metadata": {},
   "outputs": [
    {
     "data": {
      "text/plain": [
       "551"
      ]
     },
     "execution_count": 38,
     "metadata": {},
     "output_type": "execute_result"
    }
   ],
   "source": [
    "len(clean_cities_df)"
   ]
  },
  {
   "cell_type": "markdown",
   "metadata": {},
   "source": [
    "## Plotting the Data\n",
    "* Use proper labeling of the plots using plot titles (including date of analysis) and axes labels.\n",
    "* Save the plotted figures as .pngs."
   ]
  },
  {
   "cell_type": "markdown",
   "metadata": {},
   "source": [
    "## Latitude vs. Temperature Plot"
   ]
  },
  {
   "cell_type": "code",
   "execution_count": 39,
   "metadata": {},
   "outputs": [
    {
     "data": {
      "image/png": "[encoded data removed]",
      "text/plain": [
       "<Figure size 432x288 with 1 Axes>"
      ]
     },
     "metadata": {
      "needs_background": "light"
     },
     "output_type": "display_data"
    }
   ],
   "source": [
    "plt.title('City Latitude vs Max Temperature')\n",
    "\n",
    "plt.scatter(clean_cities_df['Lat'],clean_cities_df['Max Temp'], edgecolors = 'black')\n",
    "\n",
    "plt.grid()\n",
    "plt.xlabel('Latitude')\n",
    "plt.ylabel('Max Temperaure (F)')\n",
    "plt.show\n",
    "\n",
    "#save plot as .png\n",
    "plt.savefig(\"City Latitude vs Max Temperature.png\")"
   ]
  },
  {
   "cell_type": "markdown",
   "metadata": {},
   "source": [
    "## Latitude vs. Humidity Plot"
   ]
  },
  {
   "cell_type": "code",
   "execution_count": 40,
   "metadata": {},
   "outputs": [
    {
     "data": {
      "image/png": "[encoded data removed]",
      "text/plain": [
       "<Figure size 432x288 with 1 Axes>"
      ]
     },
     "metadata": {
      "needs_background": "light"
     },
     "output_type": "display_data"
    }
   ],
   "source": [
    "plt.title('City Latitude vs Humidity')\n",
    "\n",
    "plt.scatter(clean_cities_df['Lat'],clean_cities_df['Humidity'], edgecolors = 'black')\n",
    "\n",
    "plt.grid()\n",
    "plt.xlabel('Latitude')\n",
    "plt.ylabel('Humidity')\n",
    "plt.show\n",
    "\n",
    "#save plot as .png\n",
    "plt.savefig(\"City Latitude vs Humidity.png\")"
   ]
  },
  {
   "cell_type": "markdown",
   "metadata": {},
   "source": [
    "## Latitude vs. Cloudiness Plot"
   ]
  },
  {
   "cell_type": "code",
   "execution_count": 42,
   "metadata": {},
   "outputs": [
    {
     "data": {
      "image/png": "[encoded data removed]",
      "text/plain": [
       "<Figure size 432x288 with 1 Axes>"
      ]
     },
     "metadata": {
      "needs_background": "light"
     },
     "output_type": "display_data"
    }
   ],
   "source": [
    "plt.title('City Latitude vs Cloudiness')\n",
    "\n",
    "plt.scatter(clean_cities_df['Lat'],clean_cities_df['Cloudiness'], edgecolors = 'black')\n",
    "\n",
    "plt.grid()\n",
    "plt.xlabel('Latitude')\n",
    "plt.ylabel('Cloudiness')\n",
    "plt.show\n",
    "\n",
    "#save plot as .png\n",
    "plt.savefig(\"City Latitude vs Cloudiness.png\")"
   ]
  },
  {
   "cell_type": "markdown",
   "metadata": {},
   "source": [
    "## Latitude vs. Wind Speed Plot"
   ]
  },
  {
   "cell_type": "code",
   "execution_count": 44,
   "metadata": {},
   "outputs": [
    {
     "data": {
      "image/png": "[encoded data removed]",
      "text/plain": [
       "<Figure size 432x288 with 1 Axes>"
      ]
     },
     "metadata": {
      "needs_background": "light"
     },
     "output_type": "display_data"
    }
   ],
   "source": [
    "plt.title('City Latitude vs Wind Speed')\n",
    "\n",
    "plt.scatter(clean_cities_df['Lat'],clean_cities_df['Wind Speed'], edgecolors = 'black')\n",
    "\n",
    "plt.grid()\n",
    "plt.xlabel('Latitude')\n",
    "plt.ylabel('Wind Speed')\n",
    "plt.show\n",
    "\n",
    "#save plot as .png\n",
    "plt.savefig(\"City Latitude vs Wind Speed.png\")"
   ]
  },
  {
   "cell_type": "markdown",
   "metadata": {},
   "source": [
    "## Linear Regression"
   ]
  },
  {
   "cell_type": "code",
   "execution_count": 54,
   "metadata": {},
   "outputs": [],
   "source": [
    "from scipy import stats"
   ]
  },
  {
   "cell_type": "code",
   "execution_count": 55,
   "metadata": {},
   "outputs": [
    {
     "data": {
      "text/html": [
       "<div>\n",
       "<style scoped>\n",
       "    .dataframe tbody tr th:only-of-type {\n",
       "        vertical-align: middle;\n",
       "    }\n",
       "\n",
       "    .dataframe tbody tr th {\n",
       "        vertical-align: top;\n",
       "    }\n",
       "\n",
       "    .dataframe thead th {\n",
       "        text-align: right;\n",
       "    }\n",
       "</style>\n",
       "<table border=\"1\" class=\"dataframe\">\n",
       "  <thead>\n",
       "    <tr style=\"text-align: right;\">\n",
       "      <th></th>\n",
       "      <th>City</th>\n",
       "      <th>Lat</th>\n",
       "      <th>Lng</th>\n",
       "      <th>Max Temp</th>\n",
       "      <th>Humidity</th>\n",
       "      <th>Cloudiness</th>\n",
       "      <th>Wind Speed</th>\n",
       "      <th>Country</th>\n",
       "      <th>Date</th>\n",
       "    </tr>\n",
       "  </thead>\n",
       "  <tbody>\n",
       "    <tr>\n",
       "      <th>0</th>\n",
       "      <td>Yulara</td>\n",
       "      <td>-25.2406</td>\n",
       "      <td>130.9889</td>\n",
       "      <td>89.44</td>\n",
       "      <td>20</td>\n",
       "      <td>0</td>\n",
       "      <td>16.11</td>\n",
       "      <td>AU</td>\n",
       "      <td>1638933398</td>\n",
       "    </tr>\n",
       "    <tr>\n",
       "      <th>3</th>\n",
       "      <td>Kaitangata</td>\n",
       "      <td>-46.2817</td>\n",
       "      <td>169.8464</td>\n",
       "      <td>64.92</td>\n",
       "      <td>76</td>\n",
       "      <td>98</td>\n",
       "      <td>0.76</td>\n",
       "      <td>NZ</td>\n",
       "      <td>1638933400</td>\n",
       "    </tr>\n",
       "    <tr>\n",
       "      <th>12</th>\n",
       "      <td>Hobart</td>\n",
       "      <td>-42.8794</td>\n",
       "      <td>147.3294</td>\n",
       "      <td>61.11</td>\n",
       "      <td>60</td>\n",
       "      <td>75</td>\n",
       "      <td>1.99</td>\n",
       "      <td>AU</td>\n",
       "      <td>1638933406</td>\n",
       "    </tr>\n",
       "    <tr>\n",
       "      <th>14</th>\n",
       "      <td>Busselton</td>\n",
       "      <td>-33.6500</td>\n",
       "      <td>115.3333</td>\n",
       "      <td>90.05</td>\n",
       "      <td>38</td>\n",
       "      <td>46</td>\n",
       "      <td>8.93</td>\n",
       "      <td>AU</td>\n",
       "      <td>1638933407</td>\n",
       "    </tr>\n",
       "    <tr>\n",
       "      <th>15</th>\n",
       "      <td>Hermanus</td>\n",
       "      <td>-34.4187</td>\n",
       "      <td>19.2345</td>\n",
       "      <td>62.91</td>\n",
       "      <td>87</td>\n",
       "      <td>100</td>\n",
       "      <td>13.87</td>\n",
       "      <td>ZA</td>\n",
       "      <td>1638933407</td>\n",
       "    </tr>\n",
       "  </tbody>\n",
       "</table>\n",
       "</div>"
      ],
      "text/plain": [
       "          City      Lat       Lng  Max Temp  Humidity  Cloudiness  Wind Speed  \\\n",
       "0       Yulara -25.2406  130.9889     89.44        20           0       16.11   \n",
       "3   Kaitangata -46.2817  169.8464     64.92        76          98        0.76   \n",
       "12      Hobart -42.8794  147.3294     61.11        60          75        1.99   \n",
       "14   Busselton -33.6500  115.3333     90.05        38          46        8.93   \n",
       "15    Hermanus -34.4187   19.2345     62.91        87         100       13.87   \n",
       "\n",
       "   Country        Date  \n",
       "0       AU  1638933398  \n",
       "3       NZ  1638933400  \n",
       "12      AU  1638933406  \n",
       "14      AU  1638933407  \n",
       "15      ZA  1638933407  "
      ]
     },
     "execution_count": 55,
     "metadata": {},
     "output_type": "execute_result"
    }
   ],
   "source": [
    "# split into northern and southern hemisphere so Lat=0\n",
    "north_hem = clean_cities_df.loc[clean_cities_df['Lat'] > 0, :]\n",
    "#north_hem\n",
    "south_hem = clean_cities_df.loc[clean_cities_df['Lat'] < 0, :]\n",
    "south_hem.head()"
   ]
  },
  {
   "cell_type": "markdown",
   "metadata": {},
   "source": [
    "####  Northern Hemisphere - Max Temp vs. Latitude Linear Regression"
   ]
  },
  {
   "cell_type": "code",
   "execution_count": 76,
   "metadata": {},
   "outputs": [
    {
     "name": "stdout",
     "output_type": "stream",
     "text": [
      "The r-value is: 0.7918364294200557\n",
      "y = -1.29x +92.38\n"
     ]
    },
    {
     "data": {
      "image/png": "[encoded data removed]",
      "text/plain": [
       "<Figure size 432x288 with 1 Axes>"
      ]
     },
     "metadata": {
      "needs_background": "light"
     },
     "output_type": "display_data"
    },
    {
     "data": {
      "text/plain": [
       "<Figure size 432x288 with 0 Axes>"
      ]
     },
     "metadata": {},
     "output_type": "display_data"
    }
   ],
   "source": [
    "#Set x & y values\n",
    "x_values = north_hem['Lat']\n",
    "y_values = north_hem['Max Temp']\n",
    "\n",
    "#linear regression\n",
    "(slope, intercept, rvalue, pvalue, stderr) = stats.linregress(x_values, y_values)\n",
    "\n",
    "# Get regression values\n",
    "regress_values = x_values * slope + intercept\n",
    "line_eq = \"y = \" + str(round(slope,2)) + \"x +\" + str(round(intercept,2))\n",
    "\n",
    "# Create Plot\n",
    "plt.scatter(x_values,y_values)\n",
    "plt.plot(x_values,regress_values,\"r-\")\n",
    "\n",
    "# Label plot and annotate the line equation\n",
    "plt.title('Northern Hemisphere: Latitude vs Max Temp')\n",
    "plt.scatter(x_values,y_values,color= 'blue', edgecolors = 'black')\n",
    "plt.grid()\n",
    "plt.xlabel('Latitude')\n",
    "plt.ylabel('Max Temp')\n",
    "\n",
    "plt.annotate(line_eq,(10,-20),fontsize=15,color=\"red\")\n",
    "\n",
    "# Print r value\n",
    "print(f\"The r-value is: {rvalue**2}\")\n",
    "print(line_eq)\n",
    "\n",
    "# Show plot\n",
    "plt.show()\n",
    "\n",
    "#save plot as .png\n",
    "plt.savefig(\"Northern Hemisphere: Latitude vs Max Temp.png\")"
   ]
  },
  {
   "cell_type": "markdown",
   "metadata": {},
   "source": [
    "####  Southern Hemisphere - Max Temp vs. Latitude Linear Regression"
   ]
  },
  {
   "cell_type": "code",
   "execution_count": 77,
   "metadata": {},
   "outputs": [
    {
     "name": "stdout",
     "output_type": "stream",
     "text": [
      "The r-value is: 0.2966239094122993\n",
      "y = 0.39x +80.28\n"
     ]
    },
    {
     "data": {
      "image/png": "[encoded data removed]",
      "text/plain": [
       "<Figure size 432x288 with 1 Axes>"
      ]
     },
     "metadata": {
      "needs_background": "light"
     },
     "output_type": "display_data"
    },
    {
     "data": {
      "text/plain": [
       "<Figure size 432x288 with 0 Axes>"
      ]
     },
     "metadata": {},
     "output_type": "display_data"
    }
   ],
   "source": [
    "#Set x & y values\n",
    "x_values = south_hem['Lat']\n",
    "y_values = south_hem['Max Temp']\n",
    "\n",
    "#linear regression\n",
    "(slope, intercept, rvalue, pvalue, stderr) = stats.linregress(x_values, y_values)\n",
    "\n",
    "# Get regression values\n",
    "regress_values = x_values * slope + intercept\n",
    "line_eq = \"y = \" + str(round(slope,2)) + \"x +\" + str(round(intercept,2))\n",
    "\n",
    "# Create Plot\n",
    "plt.scatter(x_values,y_values)\n",
    "plt.plot(x_values,regress_values,\"r-\")\n",
    "\n",
    "# Label plot and annotate the line equation\n",
    "plt.title('Southern Hemisphere: Latitude vs Max Temp')\n",
    "plt.scatter(x_values,y_values,color= 'blue', edgecolors = 'black')\n",
    "plt.grid()\n",
    "plt.xlabel('Latitude')\n",
    "plt.ylabel('Max Temp')\n",
    "\n",
    "plt.annotate(line_eq,(-30,50),fontsize=15,color=\"red\")\n",
    "\n",
    "# Print r value\n",
    "print(f\"The r-value is: {rvalue**2}\")\n",
    "print(line_eq)\n",
    "\n",
    "# Show plot\n",
    "plt.show()\n",
    "\n",
    "#save plot as .png\n",
    "plt.savefig(\"Southern Hemisphere: Latitude vs Max Temp.png\")"
   ]
  },
  {
   "cell_type": "markdown",
   "metadata": {},
   "source": [
    "####  Northern Hemisphere - Humidity (%) vs. Latitude Linear Regression"
   ]
  },
  {
   "cell_type": "code",
   "execution_count": 80,
   "metadata": {},
   "outputs": [
    {
     "name": "stdout",
     "output_type": "stream",
     "text": [
      "The r-value is: 0.1377934377656805\n",
      "y = 0.37x +58.14\n"
     ]
    },
    {
     "data": {
      "image/png": "[encoded data removed]",
      "text/plain": [
       "<Figure size 432x288 with 1 Axes>"
      ]
     },
     "metadata": {
      "needs_background": "light"
     },
     "output_type": "display_data"
    },
    {
     "data": {
      "text/plain": [
       "<Figure size 432x288 with 0 Axes>"
      ]
     },
     "metadata": {},
     "output_type": "display_data"
    }
   ],
   "source": [
    "#Set x & y values\n",
    "x_values = north_hem['Lat']\n",
    "y_values = north_hem['Humidity']\n",
    "\n",
    "#linear regression\n",
    "(slope, intercept, rvalue, pvalue, stderr) = stats.linregress(x_values, y_values)\n",
    "regress_values = x_values * slope + intercept\n",
    "line_eq = \"y = \" + str(round(slope,2)) + \"x +\" + str(round(intercept,2))\n",
    "plt.scatter(x_values,y_values)\n",
    "plt.plot(x_values,regress_values,\"r-\")\n",
    "\n",
    "# Label plot and annotate the line equation\n",
    "plt.title('Northern Hemisphere: Latitude vs Humidity (%)')\n",
    "plt.scatter(x_values,y_values,color= 'blue', edgecolors = 'black')\n",
    "plt.grid()\n",
    "plt.xlabel('Latitude')\n",
    "plt.ylabel('Humidity (%) ')\n",
    "\n",
    "plt.annotate(line_eq,(40,20),fontsize=15,color=\"red\")\n",
    "print(f\"The r-value is: {rvalue**2}\")\n",
    "print(line_eq)\n",
    "plt.show()\n",
    "\n",
    "#save plot as .png\n",
    "plt.savefig('Northern Hemisphere: Latitude vs Humidity (%).png')"
   ]
  },
  {
   "cell_type": "markdown",
   "metadata": {},
   "source": [
    "####  Southern Hemisphere - Humidity (%) vs. Latitude Linear Regression"
   ]
  },
  {
   "cell_type": "code",
   "execution_count": 83,
   "metadata": {},
   "outputs": [
    {
     "name": "stdout",
     "output_type": "stream",
     "text": [
      "The r-value is: 0.15114059675805025\n",
      "y = 0.54x +84.87\n"
     ]
    },
    {
     "data": {
      "image/png": "[encoded data removed]",
      "text/plain": [
       "<Figure size 432x288 with 1 Axes>"
      ]
     },
     "metadata": {
      "needs_background": "light"
     },
     "output_type": "display_data"
    },
    {
     "data": {
      "text/plain": [
       "<Figure size 432x288 with 0 Axes>"
      ]
     },
     "metadata": {},
     "output_type": "display_data"
    }
   ],
   "source": [
    "#Set x & y values\n",
    "x_values = south_hem['Lat']\n",
    "y_values = south_hem['Humidity']\n",
    "\n",
    "#linear regression\n",
    "(slope, intercept, rvalue, pvalue, stderr) = stats.linregress(x_values, y_values)\n",
    "regress_values = x_values * slope + intercept\n",
    "line_eq = \"y = \" + str(round(slope,2)) + \"x +\" + str(round(intercept,2))\n",
    "plt.scatter(x_values,y_values)\n",
    "plt.plot(x_values,regress_values,\"r-\")\n",
    "\n",
    "# Label plot and annotate the line equation\n",
    "plt.title('Southern Hemisphere: Latitude vs Humidity (%)')\n",
    "plt.scatter(x_values,y_values,color= 'blue', edgecolors = 'black')\n",
    "plt.grid()\n",
    "plt.xlabel('Latitude')\n",
    "plt.ylabel('Humidity (%) ')\n",
    "\n",
    "plt.annotate(line_eq,(-30,40),fontsize=15,color=\"red\")\n",
    "print(f\"The r-value is: {rvalue**2}\")\n",
    "print(line_eq)\n",
    "plt.show()\n",
    "\n",
    "#save plot as .png\n",
    "plt.savefig('Southern Hemisphere: Latitude vs Humidity (%).png')"
   ]
  },
  {
   "cell_type": "markdown",
   "metadata": {},
   "source": [
    "####  Northern Hemisphere - Cloudiness (%) vs. Latitude Linear Regression"
   ]
  },
  {
   "cell_type": "code",
   "execution_count": 87,
   "metadata": {},
   "outputs": [
    {
     "name": "stdout",
     "output_type": "stream",
     "text": [
      "The r-value is: 0.05633149382275303\n",
      "y = 0.47x +40.78\n"
     ]
    },
    {
     "data": {
      "image/png": "[encoded data removed]",
      "text/plain": [
       "<Figure size 432x288 with 1 Axes>"
      ]
     },
     "metadata": {
      "needs_background": "light"
     },
     "output_type": "display_data"
    },
    {
     "data": {
      "text/plain": [
       "<Figure size 432x288 with 0 Axes>"
      ]
     },
     "metadata": {},
     "output_type": "display_data"
    }
   ],
   "source": [
    "#Set x & y values\n",
    "x_values = north_hem['Lat']\n",
    "y_values = north_hem['Cloudiness']\n",
    "\n",
    "#linear regression\n",
    "(slope, intercept, rvalue, pvalue, stderr) = stats.linregress(x_values, y_values)\n",
    "regress_values = x_values * slope + intercept\n",
    "line_eq = \"y = \" + str(round(slope,2)) + \"x +\" + str(round(intercept,2))\n",
    "plt.scatter(x_values,y_values)\n",
    "plt.plot(x_values,regress_values,\"r-\")\n",
    "\n",
    "# Label plot and annotate the line equation\n",
    "plt.title('Northern Hemisphere: Latitude vs Cloudiness (%)')\n",
    "plt.scatter(x_values,y_values,color= 'blue', edgecolors = 'black')\n",
    "plt.grid()\n",
    "plt.xlabel('Latitude')\n",
    "plt.ylabel('Cloudiness (%) ')\n",
    "\n",
    "plt.annotate(line_eq,(30,40),fontsize=15,color=\"red\")\n",
    "print(f\"The r-value is: {rvalue**2}\")\n",
    "print(line_eq)\n",
    "plt.show()\n",
    "\n",
    "#save plot as .png\n",
    "plt.savefig('Northern Hemisphere: Latitude vs Cloudiness (%).png')"
   ]
  },
  {
   "cell_type": "markdown",
   "metadata": {},
   "source": [
    "####  Southern Hemisphere - Cloudiness (%) vs. Latitude Linear Regression"
   ]
  },
  {
   "cell_type": "code",
   "execution_count": 90,
   "metadata": {},
   "outputs": [
    {
     "name": "stdout",
     "output_type": "stream",
     "text": [
      "The r-value is: 0.07895195698566715\n",
      "y = 0.8x +76.8\n"
     ]
    },
    {
     "data": {
      "image/png": "[encoded data removed]",
      "text/plain": [
       "<Figure size 432x288 with 1 Axes>"
      ]
     },
     "metadata": {
      "needs_background": "light"
     },
     "output_type": "display_data"
    },
    {
     "data": {
      "text/plain": [
       "<Figure size 432x288 with 0 Axes>"
      ]
     },
     "metadata": {},
     "output_type": "display_data"
    }
   ],
   "source": [
    "#Set x & y values\n",
    "x_values = south_hem['Lat']\n",
    "y_values = south_hem['Cloudiness']\n",
    "\n",
    "#linear regression\n",
    "(slope, intercept, rvalue, pvalue, stderr) = stats.linregress(x_values, y_values)\n",
    "regress_values = x_values * slope + intercept\n",
    "line_eq = \"y = \" + str(round(slope,2)) + \"x +\" + str(round(intercept,2))\n",
    "plt.scatter(x_values,y_values)\n",
    "plt.plot(x_values,regress_values,\"r-\")\n",
    "\n",
    "# Label plot and annotate the line equation\n",
    "plt.title('Southern Hemisphere: Latitude vs Cloudiness (%)')\n",
    "plt.scatter(x_values,y_values,color= 'blue', edgecolors = 'black')\n",
    "plt.grid()\n",
    "plt.xlabel('Latitude')\n",
    "plt.ylabel('Cloudiness (%) ')\n",
    "\n",
    "plt.annotate(line_eq,(-50,60),fontsize=15,color=\"red\")\n",
    "print(f\"The r-value is: {rvalue**2}\")\n",
    "print(line_eq)\n",
    "plt.show()\n",
    "\n",
    "#save plot as .png\n",
    "plt.savefig('Southern Hemisphere: Latitude vs Cloudiness (%).png')"
   ]
  },
  {
   "cell_type": "markdown",
   "metadata": {},
   "source": [
    "####  Northern Hemisphere - Wind Speed (mph) vs. Latitude Linear Regression"
   ]
  },
  {
   "cell_type": "code",
   "execution_count": 93,
   "metadata": {},
   "outputs": [
    {
     "name": "stdout",
     "output_type": "stream",
     "text": [
      "The r-value is: 0.018645307139937724\n",
      "y = 0.05x +6.58\n"
     ]
    },
    {
     "data": {
      "image/png": "[encoded data removed]",
      "text/plain": [
       "<Figure size 432x288 with 1 Axes>"
      ]
     },
     "metadata": {
      "needs_background": "light"
     },
     "output_type": "display_data"
    },
    {
     "data": {
      "text/plain": [
       "<Figure size 432x288 with 0 Axes>"
      ]
     },
     "metadata": {},
     "output_type": "display_data"
    }
   ],
   "source": [
    "#Set x & y values\n",
    "x_values = north_hem['Lat']\n",
    "y_values = north_hem['Wind Speed']\n",
    "\n",
    "#linear regression\n",
    "(slope, intercept, rvalue, pvalue, stderr) = stats.linregress(x_values, y_values)\n",
    "regress_values = x_values * slope + intercept\n",
    "line_eq = \"y = \" + str(round(slope,2)) + \"x +\" + str(round(intercept,2))\n",
    "plt.scatter(x_values,y_values)\n",
    "plt.plot(x_values,regress_values,\"r-\")\n",
    "\n",
    "# Label plot and annotate the line equation\n",
    "plt.title('Northern Hemisphere: Latitude vs Wind Speed (mph)')\n",
    "plt.scatter(x_values,y_values,color= 'blue', edgecolors = 'black')\n",
    "plt.grid()\n",
    "plt.xlabel('Latitude')\n",
    "plt.ylabel('Wind Speed (mph)')\n",
    "\n",
    "plt.annotate(line_eq,(10, 35),fontsize=15,color=\"red\")\n",
    "print(f\"The r-value is: {rvalue**2}\")\n",
    "print(line_eq)\n",
    "plt.show()\n",
    "\n",
    "#save plot as .png\n",
    "plt.savefig('Northern Hemisphere: Latitude vs Wind Speed (mph).png')"
   ]
  },
  {
   "cell_type": "markdown",
   "metadata": {},
   "source": [
    "####  Southern Hemisphere - Wind Speed (mph) vs. Latitude Linear Regression"
   ]
  },
  {
   "cell_type": "code",
   "execution_count": 96,
   "metadata": {},
   "outputs": [
    {
     "name": "stdout",
     "output_type": "stream",
     "text": [
      "The r-value is: 0.05893082725105893\n",
      "y = -0.1x +5.52\n"
     ]
    },
    {
     "data": {
      "image/png": "[encoded data removed]",
      "text/plain": [
       "<Figure size 432x288 with 1 Axes>"
      ]
     },
     "metadata": {
      "needs_background": "light"
     },
     "output_type": "display_data"
    },
    {
     "data": {
      "text/plain": [
       "<Figure size 432x288 with 0 Axes>"
      ]
     },
     "metadata": {},
     "output_type": "display_data"
    }
   ],
   "source": [
    "#Set x & y values\n",
    "x_values = south_hem['Lat']\n",
    "y_values = south_hem['Wind Speed']\n",
    "\n",
    "#linear regression\n",
    "(slope, intercept, rvalue, pvalue, stderr) = stats.linregress(x_values, y_values)\n",
    "regress_values = x_values * slope + intercept\n",
    "line_eq = \"y = \" + str(round(slope,2)) + \"x +\" + str(round(intercept,2))\n",
    "plt.scatter(x_values,y_values)\n",
    "plt.plot(x_values,regress_values,\"r-\")\n",
    "\n",
    "# Label plot and annotate the line equation\n",
    "plt.title('Southern Hemisphere: Latitude vs Wind Speed (mph)')\n",
    "plt.scatter(x_values,y_values,color= 'blue', edgecolors = 'black')\n",
    "plt.grid()\n",
    "plt.xlabel('Latitude')\n",
    "plt.ylabel('Wind Speed (mph)')\n",
    "\n",
    "plt.annotate(line_eq,(-50, 35),fontsize=15,color=\"red\")\n",
    "print(f\"The r-value is: {rvalue**2}\")\n",
    "print(line_eq)\n",
    "plt.show()\n",
    "\n",
    "#save plot as .png\n",
    "plt.savefig('Southern Hemisphere: Latitude vs Wind Speed (mph).png')"
   ]
  },
  {
   "cell_type": "markdown",
   "metadata": {},
   "source": [
    "## Data Analysis"
   ]
  },
  {
   "cell_type": "markdown",
   "metadata": {},
   "source": [
    "1. The cities closer to the equator have tend to have the highest maximum temperatures. Looking at the Latitude vs Temperature plot, we can see the majority of data points landing between latitudes -20 and 20 are at a plateau at around 60°F to 100°. There is also a strong correlation in the Northern Hemisphere where the r-value = 0.79 and the SOuthern Hemisphere where r-value = 0.29 .\n",
    "\n",
    "2. Another observation made when looking the Latitude vs Wind speed plots is that there is no clear correlation between the two variables. Both hemisphere regression analysis have an r-value very close to zero - Northern r-value = 0.02 and Southern r-value = 0.06 .\n",
    "\n",
    "3. Third observation is that there is surprisingly not a strong correlation between cloudiness and latitude.  Both hemisphere regression analysis have an r-value very close to zero - Northern r-value = 0.06 and Southern r-value = 0.08 . \n"
   ]
  }
 ],
 "metadata": {
  "anaconda-cloud": {},
  "kernel_info": {
   "name": "python3"
  },
  "kernelspec": {
   "display_name": "Python 3",
   "language": "python",
   "name": "python3"
  },
  "language_info": {
   "codemirror_mode": {
    "name": "ipython",
    "version": 3
   },
   "file_extension": ".py",
   "mimetype": "text/x-python",
   "name": "python",
   "nbconvert_exporter": "python",
   "pygments_lexer": "ipython3",
   "version": "3.8.8"
  },
  "latex_envs": {
   "LaTeX_envs_menu_present": true,
   "autoclose": false,
   "autocomplete": true,
   "bibliofile": "biblio.bib",
   "cite_by": "apalike",
   "current_citInitial": 1,
   "eqLabelWithNumbers": true,
   "eqNumInitial": 1,
   "hotkeys": {
    "equation": "Ctrl-E",
    "itemize": "Ctrl-I"
   },
   "labels_anchors": false,
   "latex_user_defs": false,
   "report_style_numbering": false,
   "user_envs_cfg": false
  },
  "nteract": {
   "version": "0.12.3"
  }
 },
 "nbformat": 4,
 "nbformat_minor": 2
}
